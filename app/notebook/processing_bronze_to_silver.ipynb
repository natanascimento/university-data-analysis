{
 "cells": [
  {
   "cell_type": "code",
   "execution_count": 1,
   "id": "a6f99867",
   "metadata": {},
   "outputs": [
    {
     "name": "stdout",
     "output_type": "stream",
     "text": [
      "Starting Spark application\n"
     ]
    },
    {
     "data": {
      "text/html": [
       "<table>\n",
       "<tr><th>ID</th><th>YARN Application ID</th><th>Kind</th><th>State</th><th>Spark UI</th><th>Driver log</th><th>User</th><th>Current session?</th></tr><tr><td>5</td><td>application_1638414109035_0006</td><td>pyspark</td><td>idle</td><td><a target=\"_blank\" href=\"http://ip-172-32-33-229.ec2.internal:20888/proxy/application_1638414109035_0006/\">Link</a></td><td><a target=\"_blank\" href=\"http://ip-172-32-32-126.ec2.internal:8042/node/containerlogs/container_1638414109035_0006_01_000002/livy\">Link</a></td><td>None</td><td>✔</td></tr></table>"
      ],
      "text/plain": [
       "<IPython.core.display.HTML object>"
      ]
     },
     "metadata": {},
     "output_type": "display_data"
    },
    {
     "data": {
      "application/vnd.jupyter.widget-view+json": {
       "model_id": "dfb40bfdd30245a78c8f98a68b05f713",
       "version_major": 2,
       "version_minor": 0
      },
      "text/plain": [
       "FloatProgress(value=0.0, bar_style='info', description='Progress:', layout=Layout(height='25px', width='50%'),…"
      ]
     },
     "metadata": {},
     "output_type": "display_data"
    },
    {
     "name": "stdout",
     "output_type": "stream",
     "text": [
      "SparkSession available as 'spark'.\n"
     ]
    },
    {
     "data": {
      "application/vnd.jupyter.widget-view+json": {
       "model_id": "8d5b9da8d43d4d1eac88f864602e8d6b",
       "version_major": 2,
       "version_minor": 0
      },
      "text/plain": [
       "FloatProgress(value=0.0, bar_style='info', description='Progress:', layout=Layout(height='25px', width='50%'),…"
      ]
     },
     "metadata": {},
     "output_type": "display_data"
    }
   ],
   "source": [
    "from pyspark.sql import SparkSession\n",
    "from pyspark.sql.functions import *\n",
    "from pyspark.sql.types import *\n",
    "import os"
   ]
  },
  {
   "cell_type": "code",
   "execution_count": 3,
   "id": "9c3443a3",
   "metadata": {},
   "outputs": [
    {
     "data": {
      "application/vnd.jupyter.widget-view+json": {
       "model_id": "c19108da50064dd68b14dfb5ecca8c53",
       "version_major": 2,
       "version_minor": 0
      },
      "text/plain": [
       "FloatProgress(value=0.0, bar_style='info', description='Progress:', layout=Layout(height='25px', width='50%'),…"
      ]
     },
     "metadata": {},
     "output_type": "display_data"
    }
   ],
   "source": [
    "spark = SparkSession \\\n",
    "    .builder \\\n",
    "    .config(\"spark.jars.packages\", \"org.apache.hadoop:hadoop-aws:2.7.0,\") \\\n",
    "    .appName(\"ProcessingBronzeToSilver\") \\\n",
    "    .getOrCreate()"
   ]
  },
  {
   "cell_type": "code",
   "execution_count": 4,
   "id": "2b80f8c6",
   "metadata": {},
   "outputs": [
    {
     "data": {
      "application/vnd.jupyter.widget-view+json": {
       "model_id": "d3adc6877c054e1a9489a419accc60ca",
       "version_major": 2,
       "version_minor": 0
      },
      "text/plain": [
       "FloatProgress(value=0.0, bar_style='info', description='Progress:', layout=Layout(height='25px', width='50%'),…"
      ]
     },
     "metadata": {},
     "output_type": "display_data"
    }
   ],
   "source": [
    "def generate_access_keys():\n",
    "    aws_access_key_id = os.environ.get('AWS_ACCESS_KEY_ID')\n",
    "    aws_secret_key = os.environ.get('AWS_SECRET_ACCESS_KEY')\n",
    "    return aws_access_key_id, aws_secret_key"
   ]
  },
  {
   "cell_type": "code",
   "execution_count": 5,
   "id": "41ff5ef5",
   "metadata": {},
   "outputs": [
    {
     "data": {
      "application/vnd.jupyter.widget-view+json": {
       "model_id": "005631e774374460bda00af705b53ac1",
       "version_major": 2,
       "version_minor": 0
      },
      "text/plain": [
       "FloatProgress(value=0.0, bar_style='info', description='Progress:', layout=Layout(height='25px', width='50%'),…"
      ]
     },
     "metadata": {},
     "output_type": "display_data"
    }
   ],
   "source": [
    "aws_access_key_id, aws_secret_key = generate_access_keys()"
   ]
  },
  {
   "cell_type": "code",
   "execution_count": 6,
   "id": "f2656776",
   "metadata": {},
   "outputs": [
    {
     "data": {
      "application/vnd.jupyter.widget-view+json": {
       "model_id": "a065b7118efd4d74a1ab9898199af09b",
       "version_major": 2,
       "version_minor": 0
      },
      "text/plain": [
       "FloatProgress(value=0.0, bar_style='info', description='Progress:', layout=Layout(height='25px', width='50%'),…"
      ]
     },
     "metadata": {},
     "output_type": "display_data"
    }
   ],
   "source": [
    "sc = spark.sparkContext\n",
    "hadoop_conf = sc._jsc.hadoopConfiguration()\n",
    "hadoop_conf.set(\"fs.s3n.impl\", \"org.apache.hadoop.fs.s3native.NativeS3FileSystem\")\n",
    "hadoop_conf.set(\"fs.s3n.awsAccessKeyId\", aws_access_key_id)\n",
    "hadoop_conf.set(\"fs.s3n.awsSecretAccessKey\", aws_secret_key)"
   ]
  },
  {
   "cell_type": "code",
   "execution_count": 7,
   "id": "b687e6e7",
   "metadata": {},
   "outputs": [
    {
     "data": {
      "application/vnd.jupyter.widget-view+json": {
       "model_id": "02e3576dda704767a3d56f991625cbe0",
       "version_major": 2,
       "version_minor": 0
      },
      "text/plain": [
       "FloatProgress(value=0.0, bar_style='info', description='Progress:', layout=Layout(height='25px', width='50%'),…"
      ]
     },
     "metadata": {},
     "output_type": "display_data"
    }
   ],
   "source": [
    "def generate_datalake_layer(layer: str) -> str:\n",
    "    return f\"university-datalake-{layer}\""
   ]
  },
  {
   "cell_type": "code",
   "execution_count": 8,
   "id": "f5f51b37",
   "metadata": {},
   "outputs": [
    {
     "data": {
      "application/vnd.jupyter.widget-view+json": {
       "model_id": "9c2a76e9f475454e89d3d8c32a681cd6",
       "version_major": 2,
       "version_minor": 0
      },
      "text/plain": [
       "FloatProgress(value=0.0, bar_style='info', description='Progress:', layout=Layout(height='25px', width='50%'),…"
      ]
     },
     "metadata": {},
     "output_type": "display_data"
    }
   ],
   "source": [
    "def generate_path(layer: str, table: str, without_partition=None) -> str:\n",
    "    if without_partition == True:\n",
    "        return f\"s3a://{layer}/table={table}/{table}.parquet\"\n",
    "    return f\"s3a://{layer}/*/*/*/table={table}/{table}.parquet\""
   ]
  },
  {
   "cell_type": "code",
   "execution_count": 9,
   "id": "f8983624",
   "metadata": {},
   "outputs": [
    {
     "data": {
      "application/vnd.jupyter.widget-view+json": {
       "model_id": "d75a9af9d40744a19c102c28cb7b2c9d",
       "version_major": 2,
       "version_minor": 0
      },
      "text/plain": [
       "FloatProgress(value=0.0, bar_style='info', description='Progress:', layout=Layout(height='25px', width='50%'),…"
      ]
     },
     "metadata": {},
     "output_type": "display_data"
    }
   ],
   "source": [
    "bronze = generate_datalake_layer(layer=\"bronze\")\n",
    "silver = generate_datalake_layer(layer=\"silver\")"
   ]
  },
  {
   "cell_type": "code",
   "execution_count": 10,
   "id": "f8956df1",
   "metadata": {},
   "outputs": [
    {
     "data": {
      "application/vnd.jupyter.widget-view+json": {
       "model_id": "0f2346b49fe449abbf69af3cc0d6455e",
       "version_major": 2,
       "version_minor": 0
      },
      "text/plain": [
       "FloatProgress(value=0.0, bar_style='info', description='Progress:', layout=Layout(height='25px', width='50%'),…"
      ]
     },
     "metadata": {},
     "output_type": "display_data"
    }
   ],
   "source": [
    "df_alunos = spark.read.format('parquet').load(generate_path(layer=bronze, table=\"alunos\"))\n",
    "df_cursos = spark.read.format('parquet').load(generate_path(layer=bronze, table=\"cursos\"))\n",
    "df_departamentos = spark.read.format('parquet').load(generate_path(layer=bronze, table=\"departamentos\"))\n",
    "df_disciplinas = spark.read.format('parquet').load(generate_path(layer=bronze, table=\"disciplinas\"))\n",
    "df_matriculas = spark.read.format('parquet').load(generate_path(layer=bronze, table=\"matriculas\"))\n",
    "df_matrizes_cursos = spark.read.format('parquet').load(generate_path(layer=bronze, table=\"matrizes_cursos\"))"
   ]
  },
  {
   "cell_type": "code",
   "execution_count": 11,
   "id": "ec6e7259",
   "metadata": {},
   "outputs": [
    {
     "data": {
      "application/vnd.jupyter.widget-view+json": {
       "model_id": "20e315e5c1b347b4b1f12b5e4687fcf2",
       "version_major": 2,
       "version_minor": 0
      },
      "text/plain": [
       "FloatProgress(value=0.0, bar_style='info', description='Progress:', layout=Layout(height='25px', width='50%'),…"
      ]
     },
     "metadata": {},
     "output_type": "display_data"
    }
   ],
   "source": [
    "df_alunos = df_alunos.select(col('mat_alu').cast(IntegerType()), \n",
    "                             col('nome'), col('dat_entrada'), \n",
    "                             col('cod_curso').cast(IntegerType()), col('cotista'))"
   ]
  },
  {
   "cell_type": "code",
   "execution_count": 12,
   "id": "a49240b4",
   "metadata": {},
   "outputs": [
    {
     "data": {
      "application/vnd.jupyter.widget-view+json": {
       "model_id": "b876ce0fe56443339874e7a487f9b74c",
       "version_major": 2,
       "version_minor": 0
      },
      "text/plain": [
       "FloatProgress(value=0.0, bar_style='info', description='Progress:', layout=Layout(height='25px', width='50%'),…"
      ]
     },
     "metadata": {},
     "output_type": "display_data"
    }
   ],
   "source": [
    "def get_last_element(l):\n",
    "    return l[-1]\n",
    "\n",
    "get_last_element_udf = udf(get_last_element)\n",
    "\n",
    "df_cursos = df_cursos.withColumn('turno', get_last_element_udf(split(df_cursos['nom_curso'], ' ')))\n",
    "df_cursos = df_cursos.withColumn('nome_curso', split(df_cursos['nom_curso'], '-').getItem(0))\n",
    "\n",
    "df_cursos = df_cursos.select(col('cod_curso').cast(IntegerType()),\n",
    "                             col('nome_curso'), col('cod_dpto').cast(IntegerType()),\n",
    "                             col('turno'))"
   ]
  },
  {
   "cell_type": "code",
   "execution_count": 13,
   "id": "3d909253",
   "metadata": {},
   "outputs": [
    {
     "data": {
      "application/vnd.jupyter.widget-view+json": {
       "model_id": "c753a68b0e6b4e4e86e3e5e2078fa5eb",
       "version_major": 2,
       "version_minor": 0
      },
      "text/plain": [
       "FloatProgress(value=0.0, bar_style='info', description='Progress:', layout=Layout(height='25px', width='50%'),…"
      ]
     },
     "metadata": {},
     "output_type": "display_data"
    }
   ],
   "source": [
    "df_departamentos = df_departamentos.select(col('cod_dpto').cast(IntegerType()),\n",
    "                                           col('nome_dpto'))"
   ]
  },
  {
   "cell_type": "code",
   "execution_count": 14,
   "id": "2c633f5a",
   "metadata": {},
   "outputs": [
    {
     "data": {
      "application/vnd.jupyter.widget-view+json": {
       "model_id": "84fe3fa96a0d4992bcc2341b93468163",
       "version_major": 2,
       "version_minor": 0
      },
      "text/plain": [
       "FloatProgress(value=0.0, bar_style='info', description='Progress:', layout=Layout(height='25px', width='50%'),…"
      ]
     },
     "metadata": {},
     "output_type": "display_data"
    }
   ],
   "source": [
    "df_disciplinas = df_disciplinas.select(col('cod_disc').cast(IntegerType()),\n",
    "                                           col('nome_disc'), col('carga_horaria').cast(IntegerType()))"
   ]
  },
  {
   "cell_type": "code",
   "execution_count": 15,
   "id": "808863eb",
   "metadata": {},
   "outputs": [
    {
     "data": {
      "application/vnd.jupyter.widget-view+json": {
       "model_id": "0cfaedc9e29b4ad08649514b316f11eb",
       "version_major": 2,
       "version_minor": 0
      },
      "text/plain": [
       "FloatProgress(value=0.0, bar_style='info', description='Progress:', layout=Layout(height='25px', width='50%'),…"
      ]
     },
     "metadata": {},
     "output_type": "display_data"
    }
   ],
   "source": [
    "df_matriculas = df_matriculas.select(col('semestre').cast(IntegerType()),\n",
    "                                     col('mat_alu').cast(IntegerType()), \n",
    "                                     col('cod_disc').cast(IntegerType()),\n",
    "                                     col('nota').cast(FloatType()),\n",
    "                                     col('faltas').cast(IntegerType()),\n",
    "                                     col('status'))"
   ]
  },
  {
   "cell_type": "code",
   "execution_count": 16,
   "id": "ff3e3e94",
   "metadata": {},
   "outputs": [
    {
     "data": {
      "application/vnd.jupyter.widget-view+json": {
       "model_id": "993e4a97bef1495986f62f45edb36f06",
       "version_major": 2,
       "version_minor": 0
      },
      "text/plain": [
       "FloatProgress(value=0.0, bar_style='info', description='Progress:', layout=Layout(height='25px', width='50%'),…"
      ]
     },
     "metadata": {},
     "output_type": "display_data"
    }
   ],
   "source": [
    "df_matrizes_cursos = df_matrizes_cursos.select(col('cod_curso').cast(IntegerType()),\n",
    "                                     col('cod_disc').cast(IntegerType()), \n",
    "                                     col('periodo').cast(IntegerType()))"
   ]
  },
  {
   "cell_type": "code",
   "execution_count": 17,
   "id": "df0ccfd7",
   "metadata": {},
   "outputs": [
    {
     "data": {
      "application/vnd.jupyter.widget-view+json": {
       "model_id": "fc3dba7eb26b46b1b4ac056a7c67f7b0",
       "version_major": 2,
       "version_minor": 0
      },
      "text/plain": [
       "FloatProgress(value=0.0, bar_style='info', description='Progress:', layout=Layout(height='25px', width='50%'),…"
      ]
     },
     "metadata": {},
     "output_type": "display_data"
    }
   ],
   "source": [
    "df_alunos.write.format('parquet') \\\n",
    "         .mode(\"overwrite\") \\\n",
    "         .option('path', generate_path(layer=silver, table=\"alunos\", without_partition=True)).save()\n",
    "    \n",
    "df_cursos.write.format('parquet') \\\n",
    "         .mode(\"overwrite\") \\\n",
    "         .option('path', generate_path(layer=silver, table=\"cursos\", without_partition=True)).save()\n",
    "    \n",
    "df_departamentos.write.format('parquet') \\\n",
    "         .mode(\"overwrite\") \\\n",
    "         .option('path', generate_path(layer=silver, table=\"departamentos\", without_partition=True)).save()\n",
    "    \n",
    "df_disciplinas.write.format('parquet') \\\n",
    "         .mode(\"overwrite\") \\\n",
    "         .option('path', generate_path(layer=silver, table=\"disciplinas\", without_partition=True)).save()\n",
    "    \n",
    "df_matriculas.write.format('parquet') \\\n",
    "         .mode(\"overwrite\") \\\n",
    "         .option('path', generate_path(layer=silver, table=\"matriculas\", without_partition=True)).save()\n",
    "    \n",
    "df_matrizes_cursos.write.format('parquet') \\\n",
    "         .mode(\"overwrite\") \\\n",
    "         .option('path', generate_path(layer=silver, table=\"matrizes_cursos\", without_partition=True)).save()"
   ]
  },
  {
   "cell_type": "code",
   "execution_count": 18,
   "id": "1819e912",
   "metadata": {},
   "outputs": [
    {
     "data": {
      "application/vnd.jupyter.widget-view+json": {
       "model_id": "40e66a9b76844eb09aec40abb38fdd8a",
       "version_major": 2,
       "version_minor": 0
      },
      "text/plain": [
       "FloatProgress(value=0.0, bar_style='info', description='Progress:', layout=Layout(height='25px', width='50%'),…"
      ]
     },
     "metadata": {},
     "output_type": "display_data"
    },
    {
     "name": "stdout",
     "output_type": "stream",
     "text": [
      "The processing was finished and the data it's on the silver layer!"
     ]
    }
   ],
   "source": [
    "return \"The processing was finished and the data it's on the silver layer!\""
   ]
  }
 ],
 "metadata": {
  "kernelspec": {
   "display_name": "Sparkmagic (PySpark)",
   "language": "python",
   "name": "pysparkkernel"
  },
  "language_info": {
   "codemirror_mode": {
    "name": "python",
    "version": 3
   },
   "file_extension": ".py",
   "mimetype": "text/x-python",
   "name": "pyspark",
   "pygments_lexer": "python3"
  }
 },
 "nbformat": 4,
 "nbformat_minor": 5
}
