{
 "cells": [
  {
   "cell_type": "code",
   "execution_count": 14,
   "id": "f7998a85",
   "metadata": {},
   "outputs": [],
   "source": [
    "import requests"
   ]
  },
  {
   "cell_type": "code",
   "execution_count": 15,
   "id": "e1895fe5",
   "metadata": {},
   "outputs": [],
   "source": [
    "base_uri = \"http://18.206.135.57:8080\"\n",
    "endpoint = \"api/v1/data/sink\""
   ]
  },
  {
   "cell_type": "code",
   "execution_count": 16,
   "id": "d5deb207",
   "metadata": {},
   "outputs": [],
   "source": [
    "def generate_api_uri() -> str:\n",
    "    return f\"{base_uri}/{endpoint}\""
   ]
  },
  {
   "cell_type": "code",
   "execution_count": 17,
   "id": "97566781",
   "metadata": {},
   "outputs": [],
   "source": [
    "tables = [\"alunos\", \"cursos\", \"departamentos\", \n",
    "          \"disciplinas\", \"matriculas\", \"matrizes_cursos\"]"
   ]
  },
  {
   "cell_type": "code",
   "execution_count": 20,
   "id": "797f7747",
   "metadata": {},
   "outputs": [],
   "source": [
    "def get_data_from_database(table: str):\n",
    "    try:\n",
    "        table = {\"table_name\": table}\n",
    "        \n",
    "        response = requests.post(generate_api_uri(), json=table)\n",
    "\n",
    "        if response.status_code == 201:\n",
    "            return response.json()\n",
    "        else:\n",
    "            return response.status_code\n",
    "    except Exception as exception:\n",
    "        return exception"
   ]
  },
  {
   "cell_type": "code",
   "execution_count": 21,
   "id": "5bef23f6",
   "metadata": {},
   "outputs": [
    {
     "name": "stdout",
     "output_type": "stream",
     "text": [
      "Table alunos was created\n",
      "Table cursos was created\n",
      "Table departamentos was created\n",
      "Table disciplinas was created\n",
      "Table matriculas was created\n",
      "Table matrizes_cursos was created\n"
     ]
    }
   ],
   "source": [
    "for table in tables:\n",
    "    print(get_data_from_database(table))"
   ]
  }
 ],
 "metadata": {
  "kernelspec": {
   "display_name": "conda_python3",
   "language": "python",
   "name": "conda_python3"
  },
  "language_info": {
   "codemirror_mode": {
    "name": "ipython",
    "version": 3
   },
   "file_extension": ".py",
   "mimetype": "text/x-python",
   "name": "python",
   "nbconvert_exporter": "python",
   "pygments_lexer": "ipython3",
   "version": "3.6.13"
  }
 },
 "nbformat": 4,
 "nbformat_minor": 5
}
