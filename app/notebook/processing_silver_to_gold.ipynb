{
 "cells": [
  {
   "cell_type": "code",
   "execution_count": 20,
   "id": "b367e516",
   "metadata": {},
   "outputs": [
    {
     "data": {
      "application/vnd.jupyter.widget-view+json": {
       "model_id": "15fc7e7bb3c948508cd7e6e5c885fcbf",
       "version_major": 2,
       "version_minor": 0
      },
      "text/plain": [
       "FloatProgress(value=0.0, bar_style='info', description='Progress:', layout=Layout(height='25px', width='50%'),…"
      ]
     },
     "metadata": {},
     "output_type": "display_data"
    }
   ],
   "source": [
    "from pyspark.sql import SparkSession\n",
    "from pyspark.sql.functions import *\n",
    "from pyspark.sql.types import *\n",
    "import os"
   ]
  },
  {
   "cell_type": "code",
   "execution_count": 22,
   "id": "f62eaf3f",
   "metadata": {},
   "outputs": [
    {
     "data": {
      "application/vnd.jupyter.widget-view+json": {
       "model_id": "5fe8f3dbf55e42d4b550a7f8c2351e48",
       "version_major": 2,
       "version_minor": 0
      },
      "text/plain": [
       "FloatProgress(value=0.0, bar_style='info', description='Progress:', layout=Layout(height='25px', width='50%'),…"
      ]
     },
     "metadata": {},
     "output_type": "display_data"
    }
   ],
   "source": [
    "spark = SparkSession \\\n",
    "    .builder \\\n",
    "    .config(\"spark.jars.packages\", \"org.apache.hadoop:hadoop-aws:2.7.0,\") \\\n",
    "    .appName(\"ProcessingBronzeToSilver\") \\\n",
    "    .getOrCreate()"
   ]
  },
  {
   "cell_type": "code",
   "execution_count": 23,
   "id": "99df0f08",
   "metadata": {},
   "outputs": [
    {
     "data": {
      "application/vnd.jupyter.widget-view+json": {
       "model_id": "c7b3dbabd59a44eab9ed3f1f4d723181",
       "version_major": 2,
       "version_minor": 0
      },
      "text/plain": [
       "FloatProgress(value=0.0, bar_style='info', description='Progress:', layout=Layout(height='25px', width='50%'),…"
      ]
     },
     "metadata": {},
     "output_type": "display_data"
    }
   ],
   "source": [
    "def generate_access_keys():\n",
    "    aws_access_key_id = os.environ.get('AWS_ACCESS_KEY_ID')\n",
    "    aws_secret_key = os.environ.get('AWS_SECRET_ACCESS_KEY')\n",
    "    return aws_access_key_id, aws_secret_key"
   ]
  },
  {
   "cell_type": "code",
   "execution_count": 24,
   "id": "497db84c",
   "metadata": {},
   "outputs": [
    {
     "data": {
      "application/vnd.jupyter.widget-view+json": {
       "model_id": "dd28c3230afc483d8c754b286e7c4770",
       "version_major": 2,
       "version_minor": 0
      },
      "text/plain": [
       "FloatProgress(value=0.0, bar_style='info', description='Progress:', layout=Layout(height='25px', width='50%'),…"
      ]
     },
     "metadata": {},
     "output_type": "display_data"
    }
   ],
   "source": [
    "aws_access_key_id, aws_secret_key = generate_access_keys()"
   ]
  },
  {
   "cell_type": "code",
   "execution_count": 25,
   "id": "bfb6ce2c",
   "metadata": {},
   "outputs": [
    {
     "data": {
      "application/vnd.jupyter.widget-view+json": {
       "model_id": "91c44221e180429ba7225cb7f63453a5",
       "version_major": 2,
       "version_minor": 0
      },
      "text/plain": [
       "FloatProgress(value=0.0, bar_style='info', description='Progress:', layout=Layout(height='25px', width='50%'),…"
      ]
     },
     "metadata": {},
     "output_type": "display_data"
    }
   ],
   "source": [
    "sc = spark.sparkContext\n",
    "hadoop_conf = sc._jsc.hadoopConfiguration()\n",
    "hadoop_conf.set(\"fs.s3n.impl\", \"org.apache.hadoop.fs.s3native.NativeS3FileSystem\")\n",
    "hadoop_conf.set(\"fs.s3n.awsAccessKeyId\", aws_access_key_id)\n",
    "hadoop_conf.set(\"fs.s3n.awsSecretAccessKey\", aws_secret_key)"
   ]
  },
  {
   "cell_type": "code",
   "execution_count": 26,
   "id": "dacd7dc9",
   "metadata": {},
   "outputs": [
    {
     "data": {
      "application/vnd.jupyter.widget-view+json": {
       "model_id": "c82f154b3ebb4d8b8f3634f59c9b15b5",
       "version_major": 2,
       "version_minor": 0
      },
      "text/plain": [
       "FloatProgress(value=0.0, bar_style='info', description='Progress:', layout=Layout(height='25px', width='50%'),…"
      ]
     },
     "metadata": {},
     "output_type": "display_data"
    }
   ],
   "source": [
    "def generate_datalake_layer(layer: str) -> str:\n",
    "    return f\"university-datalake-{layer}\""
   ]
  },
  {
   "cell_type": "code",
   "execution_count": 27,
   "id": "09af84e9",
   "metadata": {},
   "outputs": [
    {
     "data": {
      "application/vnd.jupyter.widget-view+json": {
       "model_id": "2c9b845b5c044ab882b502b7cd244e43",
       "version_major": 2,
       "version_minor": 0
      },
      "text/plain": [
       "FloatProgress(value=0.0, bar_style='info', description='Progress:', layout=Layout(height='25px', width='50%'),…"
      ]
     },
     "metadata": {},
     "output_type": "display_data"
    }
   ],
   "source": [
    "def generate_path(layer: str, table: str, without_partition=None) -> str:\n",
    "    if without_partition == True:\n",
    "        return f\"s3a://{layer}/table={table}/{table}.parquet\"\n",
    "    return f\"s3a://{layer}/*/*/*/table={table}/{table}.parquet\""
   ]
  },
  {
   "cell_type": "code",
   "execution_count": 28,
   "id": "6431bc2a",
   "metadata": {},
   "outputs": [
    {
     "data": {
      "application/vnd.jupyter.widget-view+json": {
       "model_id": "44e941342e0145eb8040e76c23c4456d",
       "version_major": 2,
       "version_minor": 0
      },
      "text/plain": [
       "FloatProgress(value=0.0, bar_style='info', description='Progress:', layout=Layout(height='25px', width='50%'),…"
      ]
     },
     "metadata": {},
     "output_type": "display_data"
    }
   ],
   "source": [
    "silver = generate_datalake_layer(layer=\"silver\")\n",
    "gold = generate_datalake_layer(layer=\"gold\")"
   ]
  },
  {
   "cell_type": "code",
   "execution_count": 29,
   "id": "a45d2b8f",
   "metadata": {},
   "outputs": [
    {
     "data": {
      "application/vnd.jupyter.widget-view+json": {
       "model_id": "018a502ddd634691aec2f974005fc3f2",
       "version_major": 2,
       "version_minor": 0
      },
      "text/plain": [
       "FloatProgress(value=0.0, bar_style='info', description='Progress:', layout=Layout(height='25px', width='50%'),…"
      ]
     },
     "metadata": {},
     "output_type": "display_data"
    }
   ],
   "source": [
    "df_alunos = spark.read.format('parquet').load(generate_path(layer=silver, table=\"alunos\", without_partition=True))\n",
    "df_cursos = spark.read.format('parquet').load(generate_path(layer=silver, table=\"cursos\", without_partition=True))\n",
    "df_departamentos = spark.read.format('parquet').load(generate_path(layer=silver, table=\"departamentos\", without_partition=True))\n",
    "df_disciplinas = spark.read.format('parquet').load(generate_path(layer=silver, table=\"disciplinas\", without_partition=True))\n",
    "df_matriculas = spark.read.format('parquet').load(generate_path(layer=silver, table=\"matriculas\", without_partition=True))\n",
    "df_matrizes_cursos = spark.read.format('parquet').load(generate_path(layer=silver, table=\"matrizes_cursos\", without_partition=True))"
   ]
  },
  {
   "cell_type": "code",
   "execution_count": 30,
   "id": "394ff26c",
   "metadata": {},
   "outputs": [
    {
     "data": {
      "application/vnd.jupyter.widget-view+json": {
       "model_id": "70edbedf655f4ef9b16a11cc173f0565",
       "version_major": 2,
       "version_minor": 0
      },
      "text/plain": [
       "FloatProgress(value=0.0, bar_style='info', description='Progress:', layout=Layout(height='25px', width='50%'),…"
      ]
     },
     "metadata": {},
     "output_type": "display_data"
    }
   ],
   "source": [
    "dim_curso = df_cursos.select(col('cod_curso').alias('id_curso'),\n",
    "                              col('nome_curso'),\n",
    "                              col('turno'))"
   ]
  },
  {
   "cell_type": "code",
   "execution_count": 31,
   "id": "92451b8a",
   "metadata": {},
   "outputs": [
    {
     "data": {
      "application/vnd.jupyter.widget-view+json": {
       "model_id": "3b932696341a4c9592c1afcc6723f30b",
       "version_major": 2,
       "version_minor": 0
      },
      "text/plain": [
       "FloatProgress(value=0.0, bar_style='info', description='Progress:', layout=Layout(height='25px', width='50%'),…"
      ]
     },
     "metadata": {},
     "output_type": "display_data"
    }
   ],
   "source": [
    "dim_disciplina = df_disciplinas.select(col('cod_disc').alias('id_disc'),\n",
    "                                        col('nome_disc'),\n",
    "                                        col('cod_disc'))"
   ]
  },
  {
   "cell_type": "code",
   "execution_count": 32,
   "id": "9f55c655",
   "metadata": {},
   "outputs": [
    {
     "data": {
      "application/vnd.jupyter.widget-view+json": {
       "model_id": "e3073b4f37ba42cfbb7feff984cb4a9c",
       "version_major": 2,
       "version_minor": 0
      },
      "text/plain": [
       "FloatProgress(value=0.0, bar_style='info', description='Progress:', layout=Layout(height='25px', width='50%'),…"
      ]
     },
     "metadata": {},
     "output_type": "display_data"
    }
   ],
   "source": [
    "dim_aluno = df_alunos.select(col('mat_alu').alias('id_aluno'),\n",
    "                              col('nome'),\n",
    "                              col('cotista'))"
   ]
  },
  {
   "cell_type": "code",
   "execution_count": 33,
   "id": "23103d6d",
   "metadata": {},
   "outputs": [
    {
     "data": {
      "application/vnd.jupyter.widget-view+json": {
       "model_id": "44341da9a0be4c738c043c85a585f715",
       "version_major": 2,
       "version_minor": 0
      },
      "text/plain": [
       "FloatProgress(value=0.0, bar_style='info', description='Progress:', layout=Layout(height='25px', width='50%'),…"
      ]
     },
     "metadata": {},
     "output_type": "display_data"
    }
   ],
   "source": [
    "dim_departamento = df_departamentos.select(col('cod_dpto').alias('id_departamento'),\n",
    "                                            col('nome_dpto').alias('nome_departamento'))"
   ]
  },
  {
   "cell_type": "code",
   "execution_count": 34,
   "id": "9637eb15",
   "metadata": {},
   "outputs": [
    {
     "data": {
      "application/vnd.jupyter.widget-view+json": {
       "model_id": "8e80f5ae8f44480a92b3715b1fe8e888",
       "version_major": 2,
       "version_minor": 0
      },
      "text/plain": [
       "FloatProgress(value=0.0, bar_style='info', description='Progress:', layout=Layout(height='25px', width='50%'),…"
      ]
     },
     "metadata": {},
     "output_type": "display_data"
    }
   ],
   "source": [
    "dim_tempo = df_matriculas.select(col('semestre').cast(StringType()))\n",
    "\n",
    "\n",
    "def generate_year(column):\n",
    "    return column[:4]\n",
    "\n",
    "def generate_id(column):\n",
    "    pass\n",
    "\n",
    "generate_year_udf = udf(generate_year)\n",
    "        \n",
    "dim_tempo = dim_tempo.withColumn('ano', generate_year_udf(col('semestre')))"
   ]
  },
  {
   "cell_type": "code",
   "execution_count": 35,
   "id": "c23055e1",
   "metadata": {},
   "outputs": [
    {
     "data": {
      "application/vnd.jupyter.widget-view+json": {
       "model_id": "a38ca978d8974740bc67525ebc0e7734",
       "version_major": 2,
       "version_minor": 0
      },
      "text/plain": [
       "FloatProgress(value=0.0, bar_style='info', description='Progress:', layout=Layout(height='25px', width='50%'),…"
      ]
     },
     "metadata": {},
     "output_type": "display_data"
    }
   ],
   "source": [
    "df_matrizes_cursos.createOrReplaceTempView(\"matrizes_cursos\")\n",
    "df_matriculas.createOrReplaceTempView(\"matriculas\")\n",
    "df_cursos.createOrReplaceTempView(\"cursos\")\n",
    "\n",
    "query = \"\"\"SELECT c.cod_dpto,\n",
    "                mc.cod_curso,\n",
    "                mc.cod_disc,\n",
    "                mc.periodo,\n",
    "                m.semestre,\n",
    "                m.mat_alu,\n",
    "                m.nota,\n",
    "                m.faltas,\n",
    "                m.status\n",
    "            FROM matrizes_cursos mc \n",
    "            INNER JOIN matriculas m\n",
    "            ON mc.cod_disc = m.cod_disc\n",
    "            INNER JOIN cursos c\n",
    "            ON mc.cod_curso = c.cod_curso\"\"\"\n",
    "\n",
    "fact_historico = spark.sql(query)"
   ]
  },
  {
   "cell_type": "code",
   "execution_count": 36,
   "id": "5bc8dc18",
   "metadata": {},
   "outputs": [
    {
     "data": {
      "application/vnd.jupyter.widget-view+json": {
       "model_id": "bda7ecf7c0644cdab4171280081e0408",
       "version_major": 2,
       "version_minor": 0
      },
      "text/plain": [
       "FloatProgress(value=0.0, bar_style='info', description='Progress:', layout=Layout(height='25px', width='50%'),…"
      ]
     },
     "metadata": {},
     "output_type": "display_data"
    }
   ],
   "source": [
    "fact_historico = fact_historico.select(col('cod_dpto').alias('id_departamento'),\n",
    "                                       col('cod_curso').alias('id_curso'),\n",
    "                                       col('cod_disc').alias('id_disc'),\n",
    "                                       col('mat_alu').alias('id_aluno'),\n",
    "                                       col('periodo'),\n",
    "                                       col('semestre'),\n",
    "                                       col('nota'),\n",
    "                                       col('faltas'),\n",
    "                                       col('status'))"
   ]
  },
  {
   "cell_type": "code",
   "execution_count": 40,
   "id": "e1abd119",
   "metadata": {
    "scrolled": true
   },
   "outputs": [
    {
     "data": {
      "application/vnd.jupyter.widget-view+json": {
       "model_id": "97c1d8470f714e56bfec1984c70e9450",
       "version_major": 2,
       "version_minor": 0
      },
      "text/plain": [
       "FloatProgress(value=0.0, bar_style='info', description='Progress:', layout=Layout(height='25px', width='50%'),…"
      ]
     },
     "metadata": {},
     "output_type": "display_data"
    }
   ],
   "source": [
    "dim_curso.repartition(1).write.format('parquet') \\\n",
    "                .mode('overwrite') \\\n",
    "                .option(\"header\", True) \\\n",
    "                .option(\"path\", f\"s3a://{gold}/dim_curso.parquet\").save()\n",
    "dim_disciplina.repartition(1).write.format('parquet') \\\n",
    "                .mode('overwrite') \\\n",
    "                .option(\"header\", True) \\\n",
    "                .option(\"path\", f\"s3a://{gold}/dim_disciplina.parquet\").save()\n",
    "dim_aluno.repartition(1).write.format('parquet') \\\n",
    "                .mode('overwrite') \\\n",
    "                .option(\"header\", True) \\\n",
    "                .option(\"path\", f\"s3a://{gold}/dim_aluno.parquet\").save()\n",
    "dim_departamento.repartition(1).write.format('parquet') \\\n",
    "                .mode('overwrite') \\\n",
    "                .option(\"header\", True) \\\n",
    "                .option(\"path\", f\"s3a://{gold}/dim_departamento.parquet\").save()\n",
    "dim_tempo.repartition(1).write.format('parquet') \\\n",
    "                .mode('overwrite') \\\n",
    "                .option(\"header\", True) \\\n",
    "                .option(\"path\", f\"s3a://{gold}/dim_tempo.parquet\").save()\n",
    "fact_historico.repartition(1).write.format('parquet') \\\n",
    "                .mode('overwrite') \\\n",
    "                .option(\"header\", True) \\\n",
    "                .option(\"path\", f\"s3a://{gold}/fact_historico.parquet\").save()"
   ]
  },
  {
   "cell_type": "code",
   "execution_count": 38,
   "id": "b7e8d3c9",
   "metadata": {},
   "outputs": [
    {
     "data": {
      "application/vnd.jupyter.widget-view+json": {
       "model_id": "95a33a230a034d16a856d82abbc27184",
       "version_major": 2,
       "version_minor": 0
      },
      "text/plain": [
       "FloatProgress(value=0.0, bar_style='info', description='Progress:', layout=Layout(height='25px', width='50%'),…"
      ]
     },
     "metadata": {},
     "output_type": "display_data"
    },
    {
     "name": "stdout",
     "output_type": "stream",
     "text": [
      "The processing was finished and the data it's on the gold layer!"
     ]
    }
   ],
   "source": [
    "print(\"The processing was finished and the data it's on the gold layer!\")"
   ]
  }
 ],
 "metadata": {
  "kernelspec": {
   "display_name": "Sparkmagic (PySpark)",
   "language": "python",
   "name": "pysparkkernel"
  },
  "language_info": {
   "codemirror_mode": {
    "name": "python",
    "version": 3
   },
   "file_extension": ".py",
   "mimetype": "text/x-python",
   "name": "pyspark",
   "pygments_lexer": "python3"
  }
 },
 "nbformat": 4,
 "nbformat_minor": 5
}
