{
 "cells": [
  {
   "cell_type": "markdown",
   "id": "f3830da9",
   "metadata": {},
   "source": [
    "# Data processing for University"
   ]
  },
  {
   "cell_type": "markdown",
   "id": "961964fd",
   "metadata": {},
   "source": [
    "## Ingestion data with Data API from transactional DB to Data Lake"
   ]
  },
  {
   "cell_type": "code",
   "execution_count": null,
   "id": "a7549dc7",
   "metadata": {},
   "outputs": [],
   "source": [
    "%run ./db_loader.ipynb"
   ]
  },
  {
   "cell_type": "markdown",
   "id": "975ae4f2",
   "metadata": {},
   "source": [
    "## Processing data from Bronze to Silver"
   ]
  },
  {
   "cell_type": "code",
   "execution_count": 2,
   "id": "2cec579d",
   "metadata": {},
   "outputs": [
    {
     "data": {
      "application/vnd.jupyter.widget-view+json": {
       "model_id": "226ced74bc1542bca85a3d2853ef001f",
       "version_major": 2,
       "version_minor": 0
      },
      "text/plain": [
       "FloatProgress(value=0.0, bar_style='info', description='Progress:', layout=Layout(height='25px', width='50%'),…"
      ]
     },
     "metadata": {},
     "output_type": "display_data"
    },
    {
     "name": "stdout",
     "output_type": "stream",
     "text": [
      "The processing was finished and the data it's on the silver layer!"
     ]
    }
   ],
   "source": [
    "%run ./processing_bronze_to_silver.ipynb"
   ]
  },
  {
   "cell_type": "markdown",
   "id": "3bcb65ac",
   "metadata": {},
   "source": [
    "## Processing data from Silver to Gold"
   ]
  },
  {
   "cell_type": "code",
   "execution_count": 1,
   "id": "1f595eef",
   "metadata": {},
   "outputs": [
    {
     "name": "stdout",
     "output_type": "stream",
     "text": [
      "Starting Spark application\n"
     ]
    },
    {
     "data": {
      "text/html": [
       "<table>\n",
       "<tr><th>ID</th><th>YARN Application ID</th><th>Kind</th><th>State</th><th>Spark UI</th><th>Driver log</th><th>User</th><th>Current session?</th></tr><tr><td>11</td><td>application_1638414109035_0012</td><td>pyspark</td><td>idle</td><td><a target=\"_blank\" href=\"http://ip-172-32-33-229.ec2.internal:20888/proxy/application_1638414109035_0012/\">Link</a></td><td><a target=\"_blank\" href=\"http://ip-172-32-54-251.ec2.internal:8042/node/containerlogs/container_1638414109035_0012_01_000001/livy\">Link</a></td><td>None</td><td>✔</td></tr></table>"
      ],
      "text/plain": [
       "<IPython.core.display.HTML object>"
      ]
     },
     "metadata": {},
     "output_type": "display_data"
    },
    {
     "data": {
      "application/vnd.jupyter.widget-view+json": {
       "model_id": "1445301b842e47ac9a9dd7674d84cf28",
       "version_major": 2,
       "version_minor": 0
      },
      "text/plain": [
       "FloatProgress(value=0.0, bar_style='info', description='Progress:', layout=Layout(height='25px', width='50%'),…"
      ]
     },
     "metadata": {},
     "output_type": "display_data"
    },
    {
     "name": "stdout",
     "output_type": "stream",
     "text": [
      "SparkSession available as 'spark'.\n"
     ]
    },
    {
     "data": {
      "application/vnd.jupyter.widget-view+json": {
       "model_id": "5fa3a25e42ab41be8866681be1f4e690",
       "version_major": 2,
       "version_minor": 0
      },
      "text/plain": [
       "FloatProgress(value=0.0, bar_style='info', description='Progress:', layout=Layout(height='25px', width='50%'),…"
      ]
     },
     "metadata": {},
     "output_type": "display_data"
    },
    {
     "name": "stdout",
     "output_type": "stream",
     "text": [
      "The processing was finished and the data it's on the gold layer!"
     ]
    }
   ],
   "source": [
    "%run ./processing_silver_to_gold.ipynb"
   ]
  }
 ],
 "metadata": {
  "kernelspec": {
   "display_name": "Sparkmagic (PySpark)",
   "language": "python",
   "name": "pysparkkernel"
  },
  "language_info": {
   "codemirror_mode": {
    "name": "python",
    "version": 3
   },
   "file_extension": ".py",
   "mimetype": "text/x-python",
   "name": "pyspark",
   "pygments_lexer": "python3"
  }
 },
 "nbformat": 4,
 "nbformat_minor": 5
}
